{
 "cells": [
  {
   "cell_type": "markdown",
   "id": "unique-id-1",
   "metadata": {},
   "source": [
    "# My First Jupyter Notebook\n",
    "\n",
    "This is a sample notebook demonstrating the basic structure."
   ]
  },
  {
   "cell_type": "code",
   "execution_count": null,
   "id": "unique-id-2",
   "metadata": {},
   "outputs": [],
   "source": [
    "print('Hello, Jupyter!')"
   ]
  },
  {
   "cell_type": "code",
   "execution_count": null,
   "id": "unique-id-3",
   "metadata": {},
   "outputs": [],
   "source": [
    "x = 10\n",
    "y = 20\n",
    "result = x + y\n",
    "print(f'The sum is: {result}')"
   ]
  }
 ],
 "metadata": {
  "kernelspec": {
   "display_name": "Python 3 (ipykernel)",
   "language": "python",
   "name": "python3"
  },
  "language_info": {
   "codemirror_mode": {
    "name": "ipython",
    "version": 3
   },
   "file_extension": ".py",
   "mimetype": "text/x-python",
   "name": "python",
   "nbconvert_exporter": "python",
   "pygments_lexer": "ipython3",
   "version": "3.10.12"
  }
 },
 "nbformat": 4,
 "nbformat_minor": 5
}
