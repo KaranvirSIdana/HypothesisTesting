{
  "cells": [
    {
      "cell_type": "code",
      "execution_count": 2,
      "id": "unique-id-2",
      "metadata": {
        "id": "unique-id-2"
      },
      "outputs": [],
      "source": [
        "import numpy as np\n",
        "import matplotlib.pyplot as plt\n",
        "from scipy.stats import norm"
      ]
    },
    {
      "cell_type": "code",
      "execution_count": 3,
      "id": "unique-id-3",
      "metadata": {
        "id": "unique-id-3"
      },
      "outputs": [],
      "source": [
        "#Setting Random Seed for Repordicability\n",
        "np.random.seed(42)"
      ]
    },
    {
      "cell_type": "code",
      "source": [
        "# -----------------------------\n",
        "# STEP 1: Set Experiment Parameters\n",
        "# -----------------------------\n",
        "\n",
        "# Set a random seed for reproducibility (so we get the same random results every time)\n",
        "np.random.seed(42)\n",
        "\n",
        "# Sample sizes for A and B (large enough for CLT to hold)\n",
        "n_A = 1000  # Sample size for Email A (control)\n",
        "n_B = 1000  # Sample size for Email B (variant)\n",
        "\n",
        "# True conversion rates (probabilities of success)\n",
        "p_A = 0.10  # Email A true conversion rate\n",
        "p_B = 0.13  # Email B true conversion rate"
      ],
      "metadata": {
        "id": "uSoNkCIlGupY"
      },
      "id": "uSoNkCIlGupY",
      "execution_count": 16,
      "outputs": []
    },
    {
      "cell_type": "code",
      "source": [
        "# -----------------------------\n",
        "# STEP 2: Simulate Binary Data\n",
        "# -----------------------------\n",
        "\n",
        "# Simulate outcomes: 1 for success, 0 for failure\n",
        "# Each user is a Bernoulli trial\n",
        "group_A = np.random.binomial(1, p_A, n_A)\n",
        "group_B = np.random.binomial(1, p_B, n_B)"
      ],
      "metadata": {
        "id": "zjqmsUVsHGT4"
      },
      "id": "zjqmsUVsHGT4",
      "execution_count": 17,
      "outputs": []
    },
    {
      "cell_type": "code",
      "source": [
        "# -----------------------------\n",
        "# STEP 3: Calculate Sample Proportions\n",
        "# -----------------------------\n",
        "\n",
        "# Proportion of conversions in each group (sample means)\n",
        "p_hat_A = np.mean(group_A)\n",
        "p_hat_B = np.mean(group_B)\n",
        "p_hat_A, p_hat_B"
      ],
      "metadata": {
        "id": "4q4SZGq_HRbB",
        "outputId": "3acca491-1ac9-457c-ebca-9219330e75fc",
        "colab": {
          "base_uri": "https://localhost:8080/"
        }
      },
      "id": "4q4SZGq_HRbB",
      "execution_count": 18,
      "outputs": [
        {
          "output_type": "execute_result",
          "data": {
            "text/plain": [
              "(np.float64(0.1), np.float64(0.131))"
            ]
          },
          "metadata": {},
          "execution_count": 18
        }
      ]
    },
    {
      "cell_type": "code",
      "source": [
        "##Assuming H0 holds true, Both samples came from the same population\n",
        "# -----------------------------\n",
        "# STEP 4: Compute Pooled Proportion\n",
        "# -----------------------------\n",
        "\n",
        "# Under H0 (no difference), we pool the successes and compute overall proportion\n",
        "p_pooled = (group_A.sum() + group_B.sum()) / (n_A + n_B)\n",
        "\n",
        "# -----------------------------\n",
        "# STEP 5: Compute Standard Error\n",
        "# -----------------------------\n",
        "\n",
        "# Formula for SE of difference between two proportions under H0\n",
        "SE = np.sqrt(p_pooled * (1 - p_pooled) * (1/n_A + 1/n_B))\n",
        "p_pooled, SE"
      ],
      "metadata": {
        "id": "va6uhdDJHStA",
        "outputId": "32e7ff9d-7b0c-463d-ff4d-8824d9cb8325",
        "colab": {
          "base_uri": "https://localhost:8080/"
        }
      },
      "id": "va6uhdDJHStA",
      "execution_count": 19,
      "outputs": [
        {
          "output_type": "execute_result",
          "data": {
            "text/plain": [
              "(np.float64(0.1155), np.float64(0.014294037218364865))"
            ]
          },
          "metadata": {},
          "execution_count": 19
        }
      ]
    },
    {
      "cell_type": "code",
      "source": [
        "# -----------------------------\n",
        "# STEP 6: Compute Z-Statistic\n",
        "# -----------------------------\n",
        "\n",
        "# How many standard errors away the observed difference is\n",
        "z_stat = (p_hat_B - p_hat_A) / SE\n",
        "z_stat"
      ],
      "metadata": {
        "id": "v1KSr3QcIkxL",
        "outputId": "82c56313-5954-4015-e5b8-40e8844539ed",
        "colab": {
          "base_uri": "https://localhost:8080/"
        }
      },
      "id": "v1KSr3QcIkxL",
      "execution_count": 22,
      "outputs": [
        {
          "output_type": "execute_result",
          "data": {
            "text/plain": [
              "np.float64(2.1687364826622564)"
            ]
          },
          "metadata": {},
          "execution_count": 22
        }
      ]
    },
    {
      "cell_type": "code",
      "source": [
        "# -----------------------------\n",
        "# STEP 7: Compute One-tailed P-Value\n",
        "# -----------------------------\n",
        "\n",
        "# Probability of observing a z this extreme or more under H0\n",
        "p_value = 1 - norm.cdf(z_stat)\n",
        "p_value"
      ],
      "metadata": {
        "id": "jEVHKWvxHfi0",
        "outputId": "b588da05-3cce-4a48-bac6-f970f80ae816",
        "colab": {
          "base_uri": "https://localhost:8080/"
        }
      },
      "id": "jEVHKWvxHfi0",
      "execution_count": 23,
      "outputs": [
        {
          "output_type": "execute_result",
          "data": {
            "text/plain": [
              "np.float64(0.015051347963662254)"
            ]
          },
          "metadata": {},
          "execution_count": 23
        }
      ]
    },
    {
      "cell_type": "code",
      "source": [
        "# -----------------------------\n",
        "# STEP 8: Plotting the Normal Curve\n",
        "# -----------------------------\n",
        "\n",
        "# x-axis values from -4 to +4 standard deviations\n",
        "x = np.linspace(-4, 4, 1000)\n",
        "y = norm.pdf(x)  # Standard normal PDF"
      ],
      "metadata": {
        "id": "3a7tuYylIgc7"
      },
      "id": "3a7tuYylIgc7",
      "execution_count": 24,
      "outputs": []
    },
    {
      "cell_type": "code",
      "source": [
        "# Create the plot\n",
        "plt.figure(figsize=(10, 5))\n",
        "plt.plot(x, y, label='Standard Normal Curve', color='blue')\n",
        "plt.axvline(z_stat, color='red', linestyle='--', label=f'Observed z = {z_stat:.2f}')\n",
        "plt.fill_between(x, y, where=(x >= z_stat), color='red', alpha=0.3, label=f'p-value = {p_value:.4f}')\n",
        "plt.title('Z-Test for Proportion Difference')\n",
        "plt.xlabel('Z-score')\n",
        "plt.ylabel('Density')\n",
        "plt.legend()\n",
        "plt.grid(True)\n",
        "plt.show()"
      ],
      "metadata": {
        "id": "sMnrz2h3JIDW",
        "outputId": "ac23c288-630c-455d-abff-e1a30ad864f8",
        "colab": {
          "base_uri": "https://localhost:8080/",
          "height": 487
        }
      },
      "id": "sMnrz2h3JIDW",
      "execution_count": 25,
      "outputs": [
        {
          "output_type": "display_data",
          "data": {
            "text/plain": [
              "<Figure size 1000x500 with 1 Axes>"
            ],
            "image/png": "[encoded data removed]"
          },
          "metadata": {}
        }
      ]
    },
    {
      "cell_type": "code",
      "source": [
        "# -----------------------------\n",
        "# STEP 9: Print Summary\n",
        "# -----------------------------\n",
        "\n",
        "summary = {\n",
        "    \"Sample Proportion A (p̂_A)\": round(p_hat_A, 4),\n",
        "    \"Sample Proportion B (p̂_B)\": round(p_hat_B, 4),\n",
        "    \"Pooled Proportion (p̂_pooled)\": round(p_pooled, 4),\n",
        "    \"Standard Error\": round(SE, 4),\n",
        "    \"Z-Statistic\": round(z_stat, 4),\n",
        "    \"One-tailed P-Value\": round(p_value, 4)\n",
        "}\n",
        "\n",
        "summary"
      ],
      "metadata": {
        "id": "Utr4SbUpJK5U",
        "outputId": "69dfab66-1fac-4997-9e67-970ee43f18eb",
        "colab": {
          "base_uri": "https://localhost:8080/"
        }
      },
      "id": "Utr4SbUpJK5U",
      "execution_count": 26,
      "outputs": [
        {
          "output_type": "execute_result",
          "data": {
            "text/plain": [
              "{'Sample Proportion A (p̂_A)': np.float64(0.1),\n",
              " 'Sample Proportion B (p̂_B)': np.float64(0.131),\n",
              " 'Pooled Proportion (p̂_pooled)': np.float64(0.1155),\n",
              " 'Standard Error': np.float64(0.0143),\n",
              " 'Z-Statistic': np.float64(2.1687),\n",
              " 'One-tailed P-Value': np.float64(0.0151)}"
            ]
          },
          "metadata": {},
          "execution_count": 26
        }
      ]
    },
    {
      "cell_type": "code",
      "source": [],
      "metadata": {
        "id": "9b7zPyQpJRoc"
      },
      "id": "9b7zPyQpJRoc",
      "execution_count": null,
      "outputs": []
    }
  ],
  "metadata": {
    "kernelspec": {
      "display_name": "Python 3 (ipykernel)",
      "language": "python",
      "name": "python3"
    },
    "language_info": {
      "codemirror_mode": {
        "name": "ipython",
        "version": 3
      },
      "file_extension": ".py",
      "mimetype": "text/x-python",
      "name": "python",
      "nbconvert_exporter": "python",
      "pygments_lexer": "ipython3",
      "version": "3.10.12"
    },
    "colab": {
      "provenance": []
    }
  },
  "nbformat": 4,
  "nbformat_minor": 5
}